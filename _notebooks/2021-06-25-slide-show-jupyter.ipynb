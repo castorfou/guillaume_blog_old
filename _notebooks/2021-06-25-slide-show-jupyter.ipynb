{
 "cells": [
  {
   "cell_type": "markdown",
   "id": "metropolitan-sierra",
   "metadata": {
    "slideshow": {
     "slide_type": "slide"
    }
   },
   "source": [
    "# \"Slideshows from Jupyter notebook\"\n",
    "> \"installation, run, strcture, split cells, hide code, host in github\"\n",
    "- show_tags: true\n",
    "- toc: true\n",
    "- branch: master\n",
    "- badges: false\n",
    "- comments: true\n",
    "- categories: [jupyter]\n",
    "- image: https://jupyter.readthedocs.io/en/latest/_static/jupyter.svg"
   ]
  },
  {
   "cell_type": "markdown",
   "id": "empty-exception",
   "metadata": {
    "slideshow": {
     "slide_type": "subslide"
    }
   },
   "source": [
    "# Installation, configuration\n"
   ]
  },
  {
   "cell_type": "markdown",
   "id": "original-enough",
   "metadata": {
    "slideshow": {
     "slide_type": "fragment"
    }
   },
   "source": [
    "nice explanation from [Mark Roekpe's blog](https://www.markroepke.me/posts/2019/05/23/creating-interactive-slideshows-in-jupyter.html)"
   ]
  },
  {
   "cell_type": "markdown",
   "id": "harmful-welding",
   "metadata": {
    "slideshow": {
     "slide_type": "fragment"
    }
   },
   "source": [
    "Slide is a native function from Jupyter (through nbconvert)."
   ]
  },
  {
   "cell_type": "markdown",
   "id": "loaded-questionnaire",
   "metadata": {
    "ExecuteTime": {
     "end_time": "2021-06-25T11:46:30.132484Z",
     "start_time": "2021-06-25T11:46:30.024177Z"
    },
    "slideshow": {
     "slide_type": "slide"
    }
   },
   "source": [
    "![](https://www.markroepke.me/assets/jupyter-slideshow-mode.png)"
   ]
  },
  {
   "cell_type": "markdown",
   "id": "manufactured-williams",
   "metadata": {},
   "source": [
    "And then for each cell I can decide if I want:\n"
   ]
  }
 ],
 "metadata": {
  "celltoolbar": "Slideshow",
  "kernelspec": {
   "display_name": "Python [conda env:pycaret] *",
   "language": "python",
   "name": "conda-env-pycaret-py"
  },
  "language_info": {
   "codemirror_mode": {
    "name": "ipython",
    "version": 3
   },
   "file_extension": ".py",
   "mimetype": "text/x-python",
   "name": "python",
   "nbconvert_exporter": "python",
   "pygments_lexer": "ipython3",
   "version": "3.8.8"
  },
  "toc": {
   "base_numbering": 1,
   "nav_menu": {},
   "number_sections": true,
   "sideBar": true,
   "skip_h1_title": false,
   "title_cell": "Table of Contents",
   "title_sidebar": "Contents",
   "toc_cell": false,
   "toc_position": {},
   "toc_section_display": true,
   "toc_window_display": true
  }
 },
 "nbformat": 4,
 "nbformat_minor": 5
}
