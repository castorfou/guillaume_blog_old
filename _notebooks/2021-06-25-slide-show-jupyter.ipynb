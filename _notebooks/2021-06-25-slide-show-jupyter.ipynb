{
 "cells": [
  {
   "cell_type": "markdown",
   "id": "metropolitan-sierra",
   "metadata": {
    "heading_collapsed": true,
    "slideshow": {
     "slide_type": "slide"
    }
   },
   "source": [
    "# \"Slideshows from Jupyter notebook\"\n",
    "> \"installation, run, strcture, split cells, hide code, host in github\"\n",
    "- show_tags: true\n",
    "- toc: true\n",
    "- branch: master\n",
    "- badges: false\n",
    "- comments: true\n",
    "- categories: [jupyter]\n",
    "- image: https://jupyter.readthedocs.io/en/latest/_static/jupyter.svg"
   ]
  },
  {
   "cell_type": "markdown",
   "id": "empty-exception",
   "metadata": {
    "slideshow": {
     "slide_type": "subslide"
    }
   },
   "source": [
    "# Installation, configuration\n"
   ]
  },
  {
   "cell_type": "markdown",
   "id": "original-enough",
   "metadata": {
    "slideshow": {
     "slide_type": "fragment"
    }
   },
   "source": [
    "nice explanation from [Mark Roekpe's blog](https://www.markroepke.me/posts/2019/05/23/creating-interactive-slideshows-in-jupyter.html)"
   ]
  },
  {
   "cell_type": "markdown",
   "id": "harmful-welding",
   "metadata": {
    "slideshow": {
     "slide_type": "fragment"
    }
   },
   "source": [
    "Slide is a native function from Jupyter (through nbconvert).\n",
    "However one can install `RISE` to get some additional features.\n",
    "\n",
    "```bash\n",
    "conda install -c conda-forge rise\n",
    "\n",
    "pip install RISE\n",
    "```\n"
   ]
  },
  {
   "cell_type": "markdown",
   "id": "loaded-questionnaire",
   "metadata": {
    "ExecuteTime": {
     "end_time": "2021-06-25T11:46:30.132484Z",
     "start_time": "2021-06-25T11:46:30.024177Z"
    },
    "slideshow": {
     "slide_type": "slide"
    }
   },
   "source": [
    "![](https://www.markroepke.me/assets/jupyter-slideshow-mode.png)"
   ]
  },
  {
   "cell_type": "markdown",
   "id": "manufactured-williams",
   "metadata": {},
   "source": [
    "And then for each cell I can decide if I want:\n",
    "-   **slide** - indicates that the selected cell should be the start of a new slide\n",
    "-   **sub-slide** - indicates that the selected cell should be the start of a new sub-slide, which appears in a new frame beneath the previous slide\n",
    "-   **fragment** - indicates that the selected cell should appear as a build to the previous slide\n",
    "-   **skip** - indicates that the selected cell should be skipped and not be a part of the slideshow\n",
    "-   **notes** - indicates that the selected cell should just be presenter notes\n",
    "-   **\\-** - indicates that the selected cell should follow the behavior of the previous cell, which is useful when a markdown cell and a code cell should appear simultaneously"
   ]
  },
  {
   "cell_type": "markdown",
   "id": "involved-lancaster",
   "metadata": {},
   "source": [
    "Slides are structured this way. To progress we can go right (for new slides) or bottom (for sub-slides).\n",
    "\n",
    "And we can decide to have new pages (slides / sub-slides) or new fragment in the same page (fragment)."
   ]
  },
  {
   "cell_type": "markdown",
   "id": "floppy-spiritual",
   "metadata": {},
   "source": [
    "# Run slides"
   ]
  },
  {
   "cell_type": "markdown",
   "id": "crude-hungarian",
   "metadata": {},
   "source": [
    "We can launch slideshow with RISE button (or Alt-R)"
   ]
  },
  {
   "cell_type": "markdown",
   "id": "combined-vulnerability",
   "metadata": {},
   "source": [
    "Or we can serve pages through nbconvert:\n",
    "\n",
    "```bash\n",
    "jupyter nbconvert my_notebook.ipynb --to slides --post serve\n",
    "\n",
    "```"
   ]
  },
  {
   "cell_type": "code",
   "execution_count": 1,
   "id": "neither-valentine",
   "metadata": {
    "ExecuteTime": {
     "end_time": "2021-06-25T12:04:58.096046Z",
     "start_time": "2021-06-25T12:04:45.970468Z"
    }
   },
   "outputs": [
    {
     "name": "stdout",
     "output_type": "stream",
     "text": [
      "[NbConvertApp] WARNING | Config option `kernel_spec_manager_class` not recognized by `NbConvertApp`.\n",
      "[NbConvertApp] Converting notebook 2021-06-25-slide-show-jupyter.ipynb to slides\n",
      "Serving your slides at http://127.0.0.1:8000/2021-06-25-slide-show-jupyter.slides.html\n",
      "Use Control-C to stop this server\n",
      "WARNING:tornado.access:404 GET /favicon.ico (127.0.0.1) 0.41ms\n",
      "^C\n",
      "\n",
      "Interrupted\n"
     ]
    }
   ],
   "source": [
    "!jupyter nbconvert 2021-06-25-slide-show-jupyter.ipynb --to slides --post serve"
   ]
  },
  {
   "cell_type": "code",
   "execution_count": null,
   "id": "flexible-cambodia",
   "metadata": {},
   "outputs": [],
   "source": []
  }
 ],
 "metadata": {
  "celltoolbar": "Slideshow",
  "kernelspec": {
   "display_name": "Python [conda env:pycaret] *",
   "language": "python",
   "name": "conda-env-pycaret-py"
  },
  "language_info": {
   "codemirror_mode": {
    "name": "ipython",
    "version": 3
   },
   "file_extension": ".py",
   "mimetype": "text/x-python",
   "name": "python",
   "nbconvert_exporter": "python",
   "pygments_lexer": "ipython3",
   "version": "3.8.8"
  },
  "toc": {
   "base_numbering": 1,
   "nav_menu": {},
   "number_sections": true,
   "sideBar": true,
   "skip_h1_title": false,
   "title_cell": "Table of Contents",
   "title_sidebar": "Contents",
   "toc_cell": false,
   "toc_position": {},
   "toc_section_display": true,
   "toc_window_display": false
  }
 },
 "nbformat": 4,
 "nbformat_minor": 5
}
