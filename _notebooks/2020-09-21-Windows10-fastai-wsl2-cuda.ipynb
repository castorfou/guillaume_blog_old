{
 "cells": [
  {
   "cell_type": "markdown",
   "metadata": {},
   "source": [
    "# Fastai on WSL 2 with Cuda\n",
    "> \"how to get an operational corporate workstation with windows 10, cuda, wsl2, fastai, pytorch...\"\n",
    "- show_tags: true\n",
    "- toc: true\n",
    "- branch: master\n",
    "- badges: false\n",
    "- comments: true\n",
    "- categories: [WSL, fastai, WSL2, cuda]"
   ]
  },
  {
   "cell_type": "markdown",
   "metadata": {},
   "source": [
    "\n",
    "This is based on what is explained in\n",
    "https://forums.fast.ai/t/fastai-on-wsl-2-ubuntu-0-7-0-or-any-version/76651"
   ]
  },
  {
   "cell_type": "markdown",
   "metadata": {},
   "source": [
    "## install update of nvidia drivers"
   ]
  },
  {
   "cell_type": "markdown",
   "metadata": {},
   "source": [
    "Based on [Deep Learning Course Forums\n",
    "Platform: Windows 10 using WSL2 w/GPU\n",
    "fastai users\n",
    "](https://forums.fast.ai/t/platform-windows-10-using-wsl2-w-gpu/73521)"
   ]
  },
  {
   "cell_type": "markdown",
   "metadata": {},
   "source": [
    "- create nvidia account\n",
    "- download quadro driver from https://developer.nvidia.com/cuda/wsl/download (460.15)\n",
    "- install\n"
   ]
  },
  {
   "cell_type": "markdown",
   "metadata": {
    "ExecuteTime": {
     "end_time": "2020-09-21T14:00:34.766333Z",
     "start_time": "2020-09-21T14:00:24.239809Z"
    }
   },
   "source": [
    "```bash\n",
    "(xgboost) guillaume@LL11LPC0PQARQ:~/git/guillaume_blog$ nvidia-smi.exe\n",
    "Mon Sep 21 16:00:46 2020\n",
    "+-----------------------------------------------------------------------------+\n",
    "| NVIDIA-SMI 460.15       Driver Version: 460.15       CUDA Version: 11.1     |\n",
    "|-------------------------------+----------------------+----------------------+\n",
    "| GPU  Name            TCC/WDDM | Bus-Id        Disp.A | Volatile Uncorr. ECC |\n",
    "| Fan  Temp  Perf  Pwr:Usage/Cap|         Memory-Usage | GPU-Util  Compute M. |\n",
    "|===============================+======================+======================|\n",
    "|   0  Quadro M1000M      WDDM  | 00000000:01:00.0  On |                  N/A |\n",
    "| N/A   59C    P0    N/A /  N/A |    905MiB /  4096MiB |      0%      Default |\n",
    "+-------------------------------+----------------------+----------------------+\n",
    "\n",
    "```"
   ]
  },
  {
   "cell_type": "markdown",
   "metadata": {},
   "source": [
    "## install of WSL2 and convert existing images"
   ]
  },
  {
   "cell_type": "markdown",
   "metadata": {},
   "source": [
    "Open a PowerShell window as an Administrator\n",
    "\n",
    "Run wsl --set-default-version 2"
   ]
  },
  {
   "cell_type": "markdown",
   "metadata": {},
   "source": [
    "### update KB\n",
    "\n",
    "{% include alert.html text=\"--set-default-version 2 is not a valid option. KB4566116 should be installed\" %}\n",
    "\n",
    "This can be downloaded from [Catalog Microsoft Update](http://www.catalog.update.microsoft.com/Search.aspx?q=KB4566116)"
   ]
  },
  {
   "cell_type": "markdown",
   "metadata": {},
   "source": [
    "### update kernel version"
   ]
  },
  {
   "cell_type": "markdown",
   "metadata": {},
   "source": [
    "If you see this message after running the command: WSL 2 requires an update to its kernel component. For information please visit https://aka.ms/wsl2kernel. You still need to install the MSI Linux kernel update package."
   ]
  },
  {
   "cell_type": "markdown",
   "metadata": {},
   "source": [
    "Download from https://docs.microsoft.com/en-us/windows/wsl/install-win10#step-4---download-the-linux-kernel-update-package"
   ]
  },
  {
   "cell_type": "markdown",
   "metadata": {},
   "source": [
    "### set default WSL to be version 2"
   ]
  },
  {
   "cell_type": "markdown",
   "metadata": {},
   "source": [
    "```\n",
    "PS C:\\WINDOWS\\system32> wsl --set-default-version 2\n",
    "```"
   ]
  },
  {
   "cell_type": "markdown",
   "metadata": {},
   "source": [
    "### convert existing images\n"
   ]
  },
  {
   "cell_type": "markdown",
   "metadata": {},
   "source": [
    "```\n",
    "PS C:\\WINDOWS\\system32> wsl --list --verbose\n",
    "  NAME            STATE           VERSION\n",
    "* Ubuntu-18.04    Running         1\n",
    "PS C:\\WINDOWS\\system32> wsl --set-version Ubuntu-18.04 2\n",
    "La conversion est en cours. Cette opération peut prendre quelques minutes...\n",
    "Pour plus d’informations sur les différences de clés avec WSL 2, visitez https://aka.ms/wsl2\n",
    "La conversion est terminée.\n",
    "```\n",
    "\n",
    "It took a while (~1 hour) for my unique ubuntu image.\n"
   ]
  },
  {
   "cell_type": "markdown",
   "metadata": {},
   "source": [
    "And at the end it has worked.\n",
    "\n",
    "```\n",
    "PS C:\\WINDOWS\\system32> wsl --list --verbose\n",
    "  NAME            STATE           VERSION\n",
    "* Ubuntu-18.04    Stopped         2\n",
    "```\n"
   ]
  },
  {
   "cell_type": "markdown",
   "metadata": {},
   "source": [
    "## install of nvidia drivers under ubuntu"
   ]
  },
  {
   "cell_type": "markdown",
   "metadata": {},
   "source": [
    "[Installation instructions)(https://developer.nvidia.com/cuda-downloads?target_os=Linux&target_arch=x86_64&target_distro=Ubuntu&target_version=1804&target_type=deblocal)\n",
    "\n",
    "```bash\n",
    "wget https://developer.download.nvidia.com/compute/cuda/repos/ubuntu1804/x86_64/cuda-ubuntu1804.pin\n",
    "sudo mv cuda-ubuntu1804.pin /etc/apt/preferences.d/cuda-repository-pin-600\n",
    "wget https://developer.download.nvidia.com/compute/cuda/11.0.3/local_installers/cuda-repo-ubuntu1804-11-0-local_11.0.3-450.51.06-1_amd64.deb\n",
    "sudo dpkg -i cuda-repo-ubuntu1804-11-0-local_11.0.3-450.51.06-1_amd64.deb\n",
    "sudo apt-key add /var/cuda-repo-ubuntu1804-11-0-local/7fa2af80.pub\n",
    "sudo apt-get update\n",
    "sudo apt-get -y install cuda\n",
    "```\n"
   ]
  },
  {
   "cell_type": "code",
   "execution_count": 3,
   "metadata": {
    "ExecuteTime": {
     "end_time": "2020-09-21T16:10:38.844488Z",
     "start_time": "2020-09-21T16:10:38.721429Z"
    }
   },
   "outputs": [
    {
     "name": "stdout",
     "output_type": "stream",
     "text": [
      "CUDA Version 11.0.228\r\n"
     ]
    }
   ],
   "source": [
    "!cat /usr/local/cuda/version.txt"
   ]
  },
  {
   "cell_type": "code",
   "execution_count": 3,
   "metadata": {
    "ExecuteTime": {
     "end_time": "2020-09-22T10:15:27.714558Z",
     "start_time": "2020-09-22T10:15:27.591879Z"
    }
   },
   "outputs": [
    {
     "name": "stdout",
     "output_type": "stream",
     "text": [
      "[/usr/local/cuda/samples/4_Finance/BlackScholes/BlackScholes] - Starting...\r\n",
      "CUDA error at ../../common/inc/helper_cuda.h:777 code=35(cudaErrorInsufficientDriver) \"cudaGetDeviceCount(&device_count)\" \r\n"
     ]
    }
   ],
   "source": [
    "!/usr/local/cuda/samples/4_Finance/BlackScholes/BlackScholes"
   ]
  },
  {
   "cell_type": "markdown",
   "metadata": {},
   "source": [
    "There is an error when launching CUDA samples. Googling that error maybe my video card is running on low driver version?"
   ]
  },
  {
   "cell_type": "markdown",
   "metadata": {},
   "source": [
    "### cuda for WSL"
   ]
  },
  {
   "cell_type": "markdown",
   "metadata": {
    "ExecuteTime": {
     "end_time": "2020-09-22T10:12:47.857131Z",
     "start_time": "2020-09-22T10:12:47.852515Z"
    }
   },
   "source": [
    "Here is a link that could be interesting: https://docs.nvidia.com/cuda/wsl-user-guide/index.html"
   ]
  },
  {
   "cell_type": "markdown",
   "metadata": {},
   "source": [
    "According to this, I should not have installed cuda but cuda-toolkit. \n",
    "`Do not choose the cuda, cuda-11-0, or cuda-drivers meta-packages under WSL 2 since these packages will result in an attempt to install the Linux NVIDIA driver under WSL 2.`\n",
    "\n",
    "Is it causing my issue?\n",
    "```bash\n",
    "apt-get install -y cuda-toolkit-11-0\n",
    "```"
   ]
  },
  {
   "cell_type": "code",
   "execution_count": 4,
   "metadata": {
    "ExecuteTime": {
     "end_time": "2020-09-22T10:17:56.156373Z",
     "start_time": "2020-09-22T10:17:56.037053Z"
    }
   },
   "outputs": [
    {
     "name": "stdout",
     "output_type": "stream",
     "text": [
      "nvcc: NVIDIA (R) Cuda compiler driver\r\n",
      "Copyright (c) 2005-2020 NVIDIA Corporation\r\n",
      "Built on Wed_Jul_22_19:09:09_PDT_2020\r\n",
      "Cuda compilation tools, release 11.0, V11.0.221\r\n",
      "Build cuda_11.0_bu.TC445_37.28845127_0\r\n"
     ]
    }
   ],
   "source": [
    "!/usr/local/cuda/bin/nvcc --version"
   ]
  },
  {
   "cell_type": "code",
   "execution_count": null,
   "metadata": {},
   "outputs": [],
   "source": []
  }
 ],
 "metadata": {
  "kernelspec": {
   "display_name": "Python 3",
   "language": "python",
   "name": "python3"
  },
  "language_info": {
   "codemirror_mode": {
    "name": "ipython",
    "version": 3
   },
   "file_extension": ".py",
   "mimetype": "text/x-python",
   "name": "python",
   "nbconvert_exporter": "python",
   "pygments_lexer": "ipython3",
   "version": "3.8.3"
  },
  "toc": {
   "base_numbering": 1,
   "nav_menu": {},
   "number_sections": true,
   "sideBar": true,
   "skip_h1_title": false,
   "title_cell": "Table of Contents",
   "title_sidebar": "Contents",
   "toc_cell": false,
   "toc_position": {},
   "toc_section_display": true,
   "toc_window_display": true
  },
  "varInspector": {
   "cols": {
    "lenName": 16,
    "lenType": 16,
    "lenVar": 40
   },
   "kernels_config": {
    "python": {
     "delete_cmd_postfix": "",
     "delete_cmd_prefix": "del ",
     "library": "var_list.py",
     "varRefreshCmd": "print(var_dic_list())"
    },
    "r": {
     "delete_cmd_postfix": ") ",
     "delete_cmd_prefix": "rm(",
     "library": "var_list.r",
     "varRefreshCmd": "cat(var_dic_list()) "
    }
   },
   "types_to_exclude": [
    "module",
    "function",
    "builtin_function_or_method",
    "instance",
    "_Feature"
   ],
   "window_display": false
  }
 },
 "nbformat": 4,
 "nbformat_minor": 4
}
