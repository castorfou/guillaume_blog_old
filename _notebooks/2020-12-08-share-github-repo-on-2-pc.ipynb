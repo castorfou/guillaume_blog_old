{
 "cells": [
  {
   "cell_type": "markdown",
   "metadata": {},
   "source": [
    "# \"Repo with 2 remote-urls\"\n",
    "> \"share data-scientist-skills repo with gitlab and github\"\n",
    "- show_tags: true\n",
    "- toc: true\n",
    "- branch: master\n",
    "- badges: false\n",
    "- comments: true\n",
    "- categories: [git]"
   ]
  },
  {
   "cell_type": "markdown",
   "metadata": {},
   "source": [
    "# from github"
   ]
  },
  {
   "cell_type": "markdown",
   "metadata": {},
   "source": [
    "I have just created this empty repo: https://github.com/castorfou/data-scientist-skills"
   ]
  },
  {
   "cell_type": "markdown",
   "metadata": {},
   "source": [
    "# from existing local repo connected to gitlab"
   ]
  },
  {
   "cell_type": "markdown",
   "metadata": {},
   "source": [
    "``` bash\n",
    "(base) guillaume@LL11LPC0PQARQ:~/git/data-scientist-skills$ git remote add github https://github.com/castorfou/data-scientist-skills.git\n",
    "(base) guillaume@LL11LPC0PQARQ:~/git/data-scientist-skills$ git push -u github\n",
    "Username for 'https://github.com': castorfou\n",
    "Password for 'https://castorfou@github.com':\n",
    "Counting objects: 4736, done.\n",
    "Delta compression using up to 8 threads.\n",
    "Compressing objects: 100% (3171/3171), done.\n",
    "Writing objects: 100% (4736/4736), 630.97 MiB | 9.08 MiB/s, done.\n",
    "Total 4736 (delta 1549), reused 4538 (delta 1458)\n",
    "remote: Resolving deltas: 100% (1549/1549), done.\n",
    "To https://github.com/castorfou/data-scientist-skills.git\n",
    " * [new branch]      master -> master\n",
    "Branch 'master' set up to track remote branch 'master' from 'github'.\n",
    "```"
   ]
  },
  {
   "cell_type": "code",
   "execution_count": null,
   "metadata": {},
   "outputs": [],
   "source": []
  }
 ],
 "metadata": {
  "kernelspec": {
   "display_name": "Python 3",
   "language": "python",
   "name": "python3"
  },
  "language_info": {
   "codemirror_mode": {
    "name": "ipython",
    "version": 3
   },
   "file_extension": ".py",
   "mimetype": "text/x-python",
   "name": "python",
   "nbconvert_exporter": "python",
   "pygments_lexer": "ipython3",
   "version": "3.8.3"
  },
  "toc": {
   "base_numbering": 1,
   "nav_menu": {},
   "number_sections": true,
   "sideBar": true,
   "skip_h1_title": false,
   "title_cell": "Table of Contents",
   "title_sidebar": "Contents",
   "toc_cell": false,
   "toc_position": {},
   "toc_section_display": true,
   "toc_window_display": false
  },
  "varInspector": {
   "cols": {
    "lenName": 16,
    "lenType": 16,
    "lenVar": 40
   },
   "kernels_config": {
    "python": {
     "delete_cmd_postfix": "",
     "delete_cmd_prefix": "del ",
     "library": "var_list.py",
     "varRefreshCmd": "print(var_dic_list())"
    },
    "r": {
     "delete_cmd_postfix": ") ",
     "delete_cmd_prefix": "rm(",
     "library": "var_list.r",
     "varRefreshCmd": "cat(var_dic_list()) "
    }
   },
   "types_to_exclude": [
    "module",
    "function",
    "builtin_function_or_method",
    "instance",
    "_Feature"
   ],
   "window_display": false
  }
 },
 "nbformat": 4,
 "nbformat_minor": 4
}
