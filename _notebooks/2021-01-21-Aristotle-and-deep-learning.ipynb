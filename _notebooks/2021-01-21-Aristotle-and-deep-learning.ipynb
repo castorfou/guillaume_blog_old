{
 "cells": [
  {
   "cell_type": "markdown",
   "metadata": {},
   "source": [
    "# \"Aristotle and Deep learning\"\n",
    "> \"All men by nature desire to know...\"\n",
    "- show_tags: true\n",
    "- toc: true\n",
    "- branch: master\n",
    "- badges: false\n",
    "- comments: true\n",
    "- categories: []"
   ]
  },
  {
   "cell_type": "markdown",
   "metadata": {},
   "source": [
    "By reading some references in recent paper, I have started to read “artificial intelligence structures and strategies for complex problem solving” by [George Luger](https://www.cs.unm.edu/~luger/). \n",
    "\n",
    "![](https://images-na.ssl-images-amazon.com/images/I/51nHNl+xfjL._SX258_BO1,204,203,200_.jpg)\n",
    "\n",
    "This is a massive book from 2005 in its 6th edition. I don’t think it has been updated since that.\n",
    "And the author starts a writing of AI history.\n",
    "\n",
    "I have been intrigued by the use of the opening sentence from Aristotle in the Metaphysics: “All men by nature desire to know…”. I remembered that sentence (without knowing it was from Aristotle), and I jumped to The Metaphysics _ Aristotle’s [wikipedia page](https://fr.wikipedia.org/wiki/M%C3%A9taphysique_%28Aristote%29) (the French one). There is a nice presentation of The MetaPhysics and some extracts that I have found quite interesting. One of them following “All men by nature desire to know” is detailing what is art and science; and for art: one need to be able to recognize similar cases and be able to generalize to an (more) universal rule.\n",
    "\n",
    "I cannot not see a link with what is happening in what we do on a daily basis in AI and deep learning. I had been surprised by Jeremy Howard’s curriculum (if I am not wrong he has a major) in Philosophy, and I better understand why he is so good in what he does.\n",
    "\n",
    "Should have studied Philosophy and ancient Greek!\n",
    "\n",
    "Would love to know your thoughts about that. (and if anyone can ask Jeremy’s without directly @ him)"
   ]
  },
  {
   "cell_type": "code",
   "execution_count": null,
   "metadata": {},
   "outputs": [],
   "source": []
  }
 ],
 "metadata": {
  "kernelspec": {
   "display_name": "Python [conda env:datacamp] *",
   "language": "python",
   "name": "conda-env-datacamp-py"
  },
  "language_info": {
   "codemirror_mode": {
    "name": "ipython",
    "version": 3
   },
   "file_extension": ".py",
   "mimetype": "text/x-python",
   "name": "python",
   "nbconvert_exporter": "python",
   "pygments_lexer": "ipython3",
   "version": "3.7.9"
  },
  "toc": {
   "base_numbering": 1,
   "nav_menu": {},
   "number_sections": true,
   "sideBar": true,
   "skip_h1_title": false,
   "title_cell": "Table of Contents",
   "title_sidebar": "Contents",
   "toc_cell": false,
   "toc_position": {},
   "toc_section_display": true,
   "toc_window_display": false
  }
 },
 "nbformat": 4,
 "nbformat_minor": 4
}
