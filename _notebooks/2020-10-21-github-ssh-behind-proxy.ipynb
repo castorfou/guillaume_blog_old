{
 "cells": [
  {
   "cell_type": "markdown",
   "metadata": {},
   "source": [
    "# Use git with github (ssh) behind corporate proxy\n",
    "> using corkscrew to tunnel ssh through http proxy\n",
    "- show_tags: true\n",
    "- toc: true\n",
    "- branch: master\n",
    "- badges: false\n",
    "- comments: true\n",
    "- categories: [git, WSL]"
   ]
  },
  {
   "cell_type": "markdown",
   "metadata": {},
   "source": [
    "# Configuration"
   ]
  },
  {
   "cell_type": "markdown",
   "metadata": {},
   "source": [
    "![alt text](../images/git_config.png \"github gitlab inside outside\")\n"
   ]
  },
  {
   "cell_type": "markdown",
   "metadata": {},
   "source": [
    "I use 2 kinds of repo. gitlab for internal/corporate projects, hosted inside my company. github for public/pet projects and as a blogging platform. 3 days a week I am inside company, 4 days a week outside.\n",
    "\n",
    "Green lines are the natural path to collaborate. \n",
    "\n",
    "When outside I don't have proxy configuration or firewall, and I can directly access github. I cannot access to gitlab but I don't want to address it now, this is why it is set as a black line. (if this is really needed I have a vpn access and this is as being inside)\n",
    "\n",
    "When inside, I use internal proxy. I can directly access gitlab. But I want to access github in a transparent way. And yes from both Windows and Linux (WSL). This is the red line.\n"
   ]
  },
  {
   "cell_type": "markdown",
   "metadata": {},
   "source": [
    "# Setup the red line"
   ]
  },
  {
   "cell_type": "markdown",
   "metadata": {},
   "source": [
    "Here is the https://stackoverflow.com/questions/21318535/how-to-setup-corkscrew-to-connect-to-github-through-draconian-proxy discussion.\n",
    "\n",
    "1st step is to install workscrew: `sudo apt install corkscrew`"
   ]
  },
  {
   "cell_type": "markdown",
   "metadata": {},
   "source": [
    "Then I create 2 ssh config files:\n",
    "\n",
    "```bash\n",
    "(base) guillaume@LL11LPC0PQARQ:~/proxy_files$ cat ssh_config_noproxy\n",
    "Host github.com\n",
    "IdentityFile ~/.ssh/id_rsa_gmail\n",
    "\n",
    "Host gitlab.<mycompany>.com\n",
    "IdentityFile ~/.ssh/id_rsa\n",
    "\n",
    "(base) guillaume@LL11LPC0PQARQ:~/proxy_files$ cat ssh_config_proxy\n",
    "Host github.com\n",
    "ProxyCommand /usr/bin/corkscrew <my_proxy_hostname> <my_proxy_port> %h %p\n",
    "IdentityFile ~/.ssh/id_rsa_gmail\n",
    "\n",
    "Host gitlab.<mycompany>.com\n",
    "IdentityFile ~/.ssh/id_rsa\n",
    "```"
   ]
  },
  {
   "cell_type": "markdown",
   "metadata": {},
   "source": [
    "It is just a matter of linking appropriate files when I am in or out of corporate network.\n",
    "\n",
    "As in `my_ip.sh`:\n",
    "\n",
    "```bash\n",
    "# Set Proxy\n",
    "function setproxy() {\n",
    "     echo \"Calling setproxy\"\n",
    "     export {http,https,ftp}_proxy=\"http://proxy_ip:80\"\n",
    "     export {HTTP,HTTPS,FTP}_PROXY=\"http://proxy_ip:80\"\n",
    "     #proxy for wget\n",
    "     ln -sf ~/proxy_files/.wgetrc_proxy ~/.wgetrc\n",
    "     #proxy for apt\n",
    "     #sudo ln -sf ~/proxy_files/apt_proxy.conf /etc/apt/apt.conf.d/proxy.conf\n",
    "     #proxy for conda\n",
    "     ln -sf ~/proxy_files/.condarc_proxy ~/.condarc\n",
    "     #proxy for git\n",
    "     git config --global http.proxy http://proxy_ip:80\n",
    "     ln -sf ~/proxy_files/ssh_config_proxy ~/.ssh/config\n",
    "}\n",
    "\n",
    "# Unset Proxy\n",
    "function unsetproxy() {\n",
    "     echo \"Calling unsetproxy\"\n",
    "     unset {http,https,ftp}_proxy\n",
    "     unset {HTTP,HTTPS,FTP}_PROXY\n",
    "     #no proxy for wget\n",
    "     ln -sf ~/proxy_files/.wgetrc_noproxy ~/.wgetrc\n",
    "     #no proxy for apt\n",
    "     #sudo rm -f /etc/apt/apt.conf.d/proxy.conf\n",
    "     #no proxy for conda\n",
    "     ln -sf ~/proxy_files/.condarc_noproxy ~/.condarc\n",
    "     #no proxy for git\n",
    "     git config --global --unset http.proxy\n",
    "     ln -sf ~/proxy_files/ssh_config_noproxy ~/.ssh/config\n",
    "}\n",
    "```"
   ]
  },
  {
   "cell_type": "code",
   "execution_count": null,
   "metadata": {},
   "outputs": [],
   "source": []
  }
 ],
 "metadata": {
  "kernelspec": {
   "display_name": "Python 3",
   "language": "python",
   "name": "python3"
  },
  "language_info": {
   "codemirror_mode": {
    "name": "ipython",
    "version": 3
   },
   "file_extension": ".py",
   "mimetype": "text/x-python",
   "name": "python",
   "nbconvert_exporter": "python",
   "pygments_lexer": "ipython3",
   "version": "3.8.3"
  },
  "toc": {
   "base_numbering": 1,
   "nav_menu": {},
   "number_sections": true,
   "sideBar": true,
   "skip_h1_title": false,
   "title_cell": "Table of Contents",
   "title_sidebar": "Contents",
   "toc_cell": false,
   "toc_position": {},
   "toc_section_display": true,
   "toc_window_display": false
  },
  "varInspector": {
   "cols": {
    "lenName": 16,
    "lenType": 16,
    "lenVar": 40
   },
   "kernels_config": {
    "python": {
     "delete_cmd_postfix": "",
     "delete_cmd_prefix": "del ",
     "library": "var_list.py",
     "varRefreshCmd": "print(var_dic_list())"
    },
    "r": {
     "delete_cmd_postfix": ") ",
     "delete_cmd_prefix": "rm(",
     "library": "var_list.r",
     "varRefreshCmd": "cat(var_dic_list()) "
    }
   },
   "types_to_exclude": [
    "module",
    "function",
    "builtin_function_or_method",
    "instance",
    "_Feature"
   ],
   "window_display": false
  }
 },
 "nbformat": 4,
 "nbformat_minor": 4
}
